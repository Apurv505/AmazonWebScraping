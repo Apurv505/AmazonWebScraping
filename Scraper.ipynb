{
 "cells": [
  {
   "cell_type": "code",
   "execution_count": 2,
   "metadata": {},
   "outputs": [],
   "source": [
    "from bs4 import BeautifulSoup\n",
    "import requests\n",
    "import smtplib\n",
    "import time\n",
    "import datetime"
   ]
  },
  {
   "cell_type": "code",
   "execution_count": 3,
   "metadata": {},
   "outputs": [],
   "source": [
    "url = 'https://www.amazon.com/dp/B07FPP6TB5/ref=va_live_carousel?pf_rd_r=191GNAVNJNZ3PS972DT2&pf_rd_p=6c4803e3-e5a5-4872-a2f0-cef332ad5a09&pf_rd_m=ATVPDKIKX0DER&pf_rd_t=Events&pf_rd_s=slot-13&linkCode=ilv&tag=onamzbellagif-20&ascsubtag=Deals_on_Deals_on_Deals_220312040111&asc_contentid=amzn1.amazonlive.broadcast.ce568308-2bab-4098-b43b-d6b3f43f3ad9&pd_rd_i=B07FPP6TB5&th=1&psc=1'\n",
    "headers = {\"User-Agent\": \"Mozilla/5.0 (Windows NT 10.0; Win64; x64) AppleWebKit/537.36 (KHTML, like Gecko) Chrome/78.0.3904.108 Safari/537.36\", \"Accept-Encoding\":\"gzip, deflate\", \"Accept\":\"text/html,application/xhtml+xml,application/xml;q=0.9,*/*;q=0.8\", \"DNT\":\"1\",\"Connection\":\"close\", \"Upgrade-Insecure-Requests\":\"1\"}\n",
    "page = requests.get(url, headers=headers)\n",
    "soup1 = BeautifulSoup(page.content, \"html.parser\")\n",
    "soup2 = BeautifulSoup(soup1.prettify(), \"html.parser\")\n"
   ]
  },
  {
   "cell_type": "code",
   "execution_count": 4,
   "metadata": {},
   "outputs": [
    {
     "name": "stdout",
     "output_type": "stream",
     "text": [
      "        Insignia 32-inch Class F20 Series Smart HD 720p Fire TV (NS-32DF310NA19, 2018 Model)       \n",
      "$179.99\n"
     ]
    }
   ],
   "source": [
    "title = soup1.find(id='productTitle').getText()\n",
    "price = soup1.find(class_=\"a-offscreen\").getText()\n",
    "print(title)\n",
    "print(price)"
   ]
  },
  {
   "cell_type": "code",
   "execution_count": 29,
   "metadata": {},
   "outputs": [],
   "source": [
    "price = price.strip()[1:]"
   ]
  },
  {
   "cell_type": "code",
   "execution_count": 33,
   "metadata": {},
   "outputs": [],
   "source": [
    "import csv"
   ]
  },
  {
   "cell_type": "code",
   "execution_count": 37,
   "metadata": {},
   "outputs": [],
   "source": [
    "header = ['Title', 'Price']\n",
    "data = [title, price]\n",
    "\n",
    "with open('AmazonWebScraper.csv', 'w', newline='\\n', encoding = 'UTF8') as f:\n",
    "    writer = csv.writer(f)\n",
    "    writer.writerow(header)\n",
    "    writer.writerow(data)\n",
    "    writer.writerow(data)"
   ]
  },
  {
   "cell_type": "code",
   "execution_count": null,
   "metadata": {},
   "outputs": [],
   "source": [
    "server = smtplib.SMTP_SSL('smtp.gmail.com',465)\n",
    "server.ehlo()\n",
    "#server.starttls()\n",
    "server.ehlo()\n",
    "server.login('AlexTheAnalyst95@gmail.com','xxxxxxxxxxxxxx')\n",
    "\n",
    "subject = \"The Shirt you want is below $15! Now is your chance to buy!\"\n",
    "body = \"Alex, This is the moment we have been waiting for. Now is your chance to pick up the shirt of your dreams. Don't mess it up! Link here: https://www.amazon.com/Funny-Data-Systems-Business-Analyst/dp/B07FNW9FGJ/ref=sr_1_3?dchild=1&keywords=data+analyst+tshirt&qid=1626655184&sr=8-3\"\n",
    "\n",
    "msg = f\"Subject: {subject}\\n\\n{body}\"\n",
    "\n",
    "server.sendmail(\n",
    "    'AlexTheAnalyst95@gmail.com',\n",
    "    msg\n",
    "    "
   ]
  },
  {
   "cell_type": "code",
   "execution_count": null,
   "metadata": {},
   "outputs": [],
   "source": []
  }
 ],
 "metadata": {
  "interpreter": {
   "hash": "6b1e02b5f4c21ef516eba28fa95d56ab96b3fc1e6c54475b203ee93ff8b9dd1e"
  },
  "kernelspec": {
   "display_name": "Python 3.10.0 ('env': venv)",
   "language": "python",
   "name": "python3"
  },
  "language_info": {
   "codemirror_mode": {
    "name": "ipython",
    "version": 3
   },
   "file_extension": ".py",
   "mimetype": "text/x-python",
   "name": "python",
   "nbconvert_exporter": "python",
   "pygments_lexer": "ipython3",
   "version": "3.10.0"
  },
  "orig_nbformat": 4
 },
 "nbformat": 4,
 "nbformat_minor": 2
}
